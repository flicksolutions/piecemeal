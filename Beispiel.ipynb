{
 "cells": [
  {
   "cell_type": "markdown",
   "id": "83752fe3-f531-45a9-bd06-750ed55ce652",
   "metadata": {},
   "source": [
    "# Beispieldurchlauf"
   ]
  },
  {
   "cell_type": "code",
   "execution_count": 2,
   "id": "c75f567a-116e-43d5-9a88-3af0132d46d3",
   "metadata": {},
   "outputs": [
    {
     "name": "stdout",
     "output_type": "stream",
     "text": [
      "{'alternatives': [set(),\n",
      "                  set(),\n",
      "                  {{3, 4}, {3, 5}},\n",
      "                  set(),\n",
      "                  set(),\n",
      "                  set(),\n",
      "                  {{1, 3, 4, 5}},\n",
      "                  set(),\n",
      "                  set(),\n",
      "                  set(),\n",
      "                  set(),\n",
      "                  set()],\n",
      " 'evolution': [{3, 4, 5},\n",
      "               set(),\n",
      "               {4, 5},\n",
      "               {1},\n",
      "               {3, 4, 5},\n",
      "               {1},\n",
      "               {3, 4, 5, -2},\n",
      "               {1},\n",
      "               {1, 3, 4, 5, -2},\n",
      "               {1},\n",
      "               {1, 3, 4, 5, -2},\n",
      "               {1}],\n",
      " 'finished': True,\n",
      " 'time_line': [0, 1, 2, 3, 4, 5, 6, 7, 8, 9, 10, 11]}\n",
      "Initial commitments: {3, 4, 5}\n",
      "Theory evolution: [set(), {1}, {1}, {1}, {1}, {1}]\n",
      "Commitments evolution: [{3, 4, 5}, {4, 5}, {3, 4, 5}, {3, 4, 5, -2}, {1, 3, 4, 5, -2}, {1, 3, 4, 5, -2}]\n",
      "{'account_penalties': [0.0, 0.3, 1.0, 1.0],\n",
      " 'faithfulness_penalties': [0.0, 0.0, 1.0, 1.0],\n",
      " 'neighbourhood_depth': 1,\n",
      " 'weights': {'account': 0.35, 'faithfulness': 0.1, 'systematicity': 0.55}}\n"
     ]
    }
   ],
   "source": [
    "from rethon.model import StandardPosition, BDDDialecticalStructure, StandardLocalReflectiveEquilibrium\n",
    "from pprint import pprint\n",
    "\n",
    "# our standard example with a sentence pool n=5\n",
    "n = 5\n",
    "arguments = [[1, 3],[1, 4],[1, 5], [2, -4],[2, 5]]\n",
    "bdd_ds = BDDDialecticalStructure.from_arguments(arguments, n)\n",
    "init_coms = StandardPosition.from_set({3, 4, 5}, n)\n",
    "local_re = StandardLocalReflectiveEquilibrium(bdd_ds, init_coms)\n",
    "local_re.set_initial_state(init_coms)\n",
    "local_re.re_process()\n",
    "pprint(local_re.state().as_dict())\n",
    "print(f'Initial commitments: {local_re.state().initial_commitments()}')\n",
    "print(f'Theory evolution: {local_re.state().theory_evolution()}')\n",
    "print(f'Commitments evolution: {local_re.state().commitments_evolution()}')\n",
    "pprint(local_re.model_parameters())"
   ]
  },
  {
   "cell_type": "code",
   "execution_count": 2,
   "id": "5a483b88-1c0f-4a28-849d-81fbc6159ab8",
   "metadata": {},
   "outputs": [
    {
     "data": {
      "text/plain": [
       "0.9987399998998642"
      ]
     },
     "execution_count": 2,
     "metadata": {},
     "output_type": "execute_result"
    }
   ],
   "source": [
    "local_re.achievement(StandardPosition.from_set({3,4,5,-2},n),StandardPosition.from_set({1},n),init_coms)"
   ]
  },
  {
   "cell_type": "code",
   "execution_count": 4,
   "id": "2ffa735a-f85a-487f-9a56-bb220caacced",
   "metadata": {},
   "outputs": [
    {
     "data": {
      "text/plain": [
       "0.9987399998998642"
      ]
     },
     "execution_count": 4,
     "metadata": {},
     "output_type": "execute_result"
    }
   ],
   "source": [
    "local_re.achievement(StandardPosition.from_set({3,4,5,1},n),StandardPosition.from_set({1},n),init_coms)"
   ]
  },
  {
   "cell_type": "code",
   "execution_count": null,
   "id": "63e0e61b-84a0-4eed-98eb-8553f6fa0953",
   "metadata": {},
   "outputs": [],
   "source": [
    "local_re.achievement(StandardPosition.from_set({3,4,5,1},n),StandardPosition.from_set({1},n),init_coms)"
   ]
  },
  {
   "cell_type": "code",
   "execution_count": null,
   "id": "498451d3-28d1-4847-8edd-c47c752392f1",
   "metadata": {},
   "outputs": [],
   "source": [
    "local_re.achievement(StandardPosition.from_set({3,4,5},n),StandardPosition.from_set({1},n),init_coms)"
   ]
  },
  {
   "cell_type": "code",
   "execution_count": null,
   "id": "955a3a3f-fab8-4bb7-96f6-949ff4cd1c63",
   "metadata": {},
   "outputs": [],
   "source": [
    "local_re.achievement(StandardPosition.from_set({3,5},n),StandardPosition.from_set({1},n),init_coms)"
   ]
  },
  {
   "cell_type": "code",
   "execution_count": null,
   "id": "9caad91a-594d-4b7c-b60e-0d88d5775b65",
   "metadata": {},
   "outputs": [],
   "source": [
    "local_re.achievement(StandardPosition.from_set({3,5},n),StandardPosition.from_set({3},n),init_coms)"
   ]
  },
  {
   "cell_type": "code",
   "execution_count": null,
   "id": "8ae4c31f-70eb-4ce0-b573-82201afa45b8",
   "metadata": {},
   "outputs": [],
   "source": [
    "local_re.account(StandardPosition.from_set({3,5},n),StandardPosition.from_set({3},n))"
   ]
  },
  {
   "cell_type": "code",
   "execution_count": null,
   "id": "3c9d0f5e-13c4-4b8d-b4c8-660932654851",
   "metadata": {},
   "outputs": [],
   "source": [
    "local_re.account(StandardPosition.from_set({3,5},n),StandardPosition.from_set({1},n))"
   ]
  },
  {
   "cell_type": "code",
   "execution_count": null,
   "id": "79f37e77-264d-4e69-991e-c68b99b1aca9",
   "metadata": {},
   "outputs": [],
   "source": [
    "local_re.systematicity(StandardPosition.from_set({1},n))"
   ]
  },
  {
   "cell_type": "code",
   "execution_count": 33,
   "id": "5398d774-db69-4518-bb5c-787994947286",
   "metadata": {},
   "outputs": [
    {
     "name": "stdout",
     "output_type": "stream",
     "text": [
      "{'alternatives': [set(),\n",
      "                  set(),\n",
      "                  set(),\n",
      "                  {{5}, {-2}, {-1}},\n",
      "                  set(),\n",
      "                  set(),\n",
      "                  set(),\n",
      "                  set()],\n",
      " 'evolution': [{3}, set(), set(), {3}, {3}, {3}, {3}, {3}],\n",
      " 'finished': True,\n",
      " 'time_line': [0, 1, 2, 3, 4, 5, 6, 7]}\n",
      "Initial commitments: {3}\n",
      "Theory evolution: [set(), {3}, {3}, {3}]\n",
      "Commitments evolution: [{3}, set(), {3}, {3}]\n",
      "{'account_penalties': [0.0, 0.3, 1.0, 1.0],\n",
      " 'faithfulness_penalties': [0.0, 0.0, 1.0, 1.0],\n",
      " 'neighbourhood_depth': 1,\n",
      " 'weights': {'account': 0.35, 'faithfulness': 0.1, 'systematicity': 0.55}}\n"
     ]
    }
   ],
   "source": [
    "# try with 1 initial\n",
    "n = 5\n",
    "arguments = [[1, 3],[1, 4],[1, 5], [2, -4],[2, 5]]\n",
    "bdd_ds = BDDDialecticalStructure.from_arguments(arguments, n)\n",
    "init_coms = StandardPosition.from_set({3}, n)\n",
    "local_re = StandardLocalReflectiveEquilibrium(bdd_ds, init_coms)\n",
    "local_re.set_initial_state(init_coms)\n",
    "local_re.re_process()\n",
    "pprint(local_re.state().as_dict())\n",
    "print(f'Initial commitments: {local_re.state().initial_commitments()}')\n",
    "print(f'Theory evolution: {local_re.state().theory_evolution()}')\n",
    "print(f'Commitments evolution: {local_re.state().commitments_evolution()}')\n",
    "pprint(local_re.model_parameters())"
   ]
  },
  {
   "cell_type": "code",
   "execution_count": 34,
   "id": "d6040a45-6277-42e7-ad75-b0d531e889c9",
   "metadata": {},
   "outputs": [
    {
     "data": {
      "text/plain": [
       "0.44599999999999995"
      ]
     },
     "execution_count": 34,
     "metadata": {},
     "output_type": "execute_result"
    }
   ],
   "source": [
    "local_re.achievement(StandardPosition.from_set({},n),StandardPosition.from_set({},n),init_coms)"
   ]
  },
  {
   "cell_type": "code",
   "execution_count": 39,
   "id": "19ebed31-93e6-4ef0-9d0b-743e491997f6",
   "metadata": {},
   "outputs": [
    {
     "data": {
      "text/plain": [
       "0.9099999928474425"
      ]
     },
     "execution_count": 39,
     "metadata": {},
     "output_type": "execute_result"
    }
   ],
   "source": [
    "local_re.account(StandardPosition.from_set({},n),StandardPosition.from_set({1},n))"
   ]
  },
  {
   "cell_type": "code",
   "execution_count": 29,
   "id": "40596957-bc3f-483e-b53c-7506bcaa7f37",
   "metadata": {},
   "outputs": [
    {
     "data": {
      "text/plain": [
       "1.0"
      ]
     },
     "execution_count": 29,
     "metadata": {},
     "output_type": "execute_result"
    }
   ],
   "source": [
    "local_re.account(StandardPosition.from_set({},n),StandardPosition.from_set({},n))"
   ]
  },
  {
   "cell_type": "code",
   "execution_count": 38,
   "id": "aaabe6c2-8d78-4819-96a2-6ed8800b81e7",
   "metadata": {},
   "outputs": [
    {
     "data": {
      "text/plain": [
       "1.0"
      ]
     },
     "execution_count": 38,
     "metadata": {},
     "output_type": "execute_result"
    }
   ],
   "source": [
    "local_re.systematicity(StandardPosition.from_set({1},n))"
   ]
  },
  {
   "cell_type": "code",
   "execution_count": 32,
   "id": "d77bb3d4-5235-4afb-a0b2-d3953a2fa8f0",
   "metadata": {},
   "outputs": [
    {
     "data": {
      "text/plain": [
       "0.96"
      ]
     },
     "execution_count": 32,
     "metadata": {},
     "output_type": "execute_result"
    }
   ],
   "source": [
    "local_re.faithfulness(StandardPosition.from_set({-1},n),init_coms)"
   ]
  },
  {
   "cell_type": "code",
   "execution_count": 19,
   "id": "c5ebfd3c-4eef-4429-8f37-22084a223666",
   "metadata": {},
   "outputs": [
    {
     "data": {
      "text/plain": [
       "0.9963999997138977"
      ]
     },
     "execution_count": 19,
     "metadata": {},
     "output_type": "execute_result"
    }
   ],
   "source": [
    "local_re.account(StandardPosition.from_set({},n),StandardPosition.from_set({5},n))"
   ]
  },
  {
   "cell_type": "code",
   "execution_count": 64,
   "id": "a5dc628f-e7bc-41dc-8329-67536d56f25f",
   "metadata": {},
   "outputs": [
    {
     "name": "stdout",
     "output_type": "stream",
     "text": [
      "{'alternatives': [set(), set(), {{4}}, set(), set(), set()],\n",
      " 'evolution': [{4, 5}, set(), {5}, {5}, {5}, {5}],\n",
      " 'finished': True,\n",
      " 'time_line': [0, 1, 2, 3, 4, 5]}\n",
      "Initial commitments: {4, 5}\n",
      "Theory evolution: [set(), {5}, {5}]\n",
      "Commitments evolution: [{4, 5}, {5}, {5}]\n",
      "{'account_penalties': [0.0, 0.3, 1.0, 1.0],\n",
      " 'faithfulness_penalties': [0.0, 0.0, 1.0, 1.0],\n",
      " 'neighbourhood_depth': 1,\n",
      " 'weights': {'account': 0.35, 'faithfulness': 0.1, 'systematicity': 0.55}}\n"
     ]
    }
   ],
   "source": [
    "# try with 1 initial\n",
    "n = 5\n",
    "arguments = [[1, 2],[1, 3],[2, 4], [3, 5]]\n",
    "bdd_ds = BDDDialecticalStructure.from_arguments(arguments, n)\n",
    "init_coms = StandardPosition.from_set({4,5}, n)\n",
    "local_re = StandardLocalReflectiveEquilibrium(bdd_ds, init_coms)\n",
    "local_re.set_initial_state(init_coms)\n",
    "local_re.re_process()\n",
    "pprint(local_re.state().as_dict())\n",
    "print(f'Initial commitments: {local_re.state().initial_commitments()}')\n",
    "print(f'Theory evolution: {local_re.state().theory_evolution()}')\n",
    "print(f'Commitments evolution: {local_re.state().commitments_evolution()}')\n",
    "pprint(local_re.model_parameters())"
   ]
  },
  {
   "cell_type": "code",
   "execution_count": 65,
   "id": "6a62668d-a922-4074-b166-3002eb7321eb",
   "metadata": {},
   "outputs": [
    {
     "data": {
      "text/plain": [
       "0.986"
      ]
     },
     "execution_count": 65,
     "metadata": {},
     "output_type": "execute_result"
    }
   ],
   "source": [
    "local_re.achievement(StandardPosition.from_set({4, 5},n),StandardPosition.from_set({5},n),init_coms)"
   ]
  },
  {
   "cell_type": "code",
   "execution_count": 68,
   "id": "19d0f8c3-0606-47f9-ad48-4fa33d5235f4",
   "metadata": {},
   "outputs": [
    {
     "data": {
      "text/plain": [
       "0.8624999999999999"
      ]
     },
     "execution_count": 68,
     "metadata": {},
     "output_type": "execute_result"
    }
   ],
   "source": [
    "local_re.achievement(StandardPosition.from_set({4, 5},n),StandardPosition.from_set({4, 5},n),init_coms)"
   ]
  },
  {
   "cell_type": "code",
   "execution_count": 72,
   "id": "d3317a37-595b-4b33-aa98-0d87d83a95a5",
   "metadata": {},
   "outputs": [
    {
     "data": {
      "text/plain": [
       "0.96"
      ]
     },
     "execution_count": 72,
     "metadata": {},
     "output_type": "execute_result"
    }
   ],
   "source": [
    "local_re.account(StandardPosition.from_set({4, 5},n),StandardPosition.from_set({5},n))"
   ]
  },
  {
   "cell_type": "code",
   "execution_count": 73,
   "id": "b424f0c4-78e7-442e-9db2-6ca9127511b4",
   "metadata": {},
   "outputs": [
    {
     "data": {
      "text/plain": [
       "0"
      ]
     },
     "execution_count": 73,
     "metadata": {},
     "output_type": "execute_result"
    }
   ],
   "source": [
    "local_re.systematicity(StandardPosition.from_set({},n))"
   ]
  },
  {
   "cell_type": "code",
   "execution_count": 3,
   "id": "d3e0064d-46b7-43ea-9135-9364b08ff296",
   "metadata": {},
   "outputs": [],
   "source": [
    "from rethon.model import StandardPosition, DAGDialecticalStructure, StandardGlobalReflectiveEquilibrium"
   ]
  },
  {
   "cell_type": "code",
   "execution_count": 57,
   "id": "6b50a8c7-b5e3-4fdb-ac89-00db4db52e11",
   "metadata": {},
   "outputs": [
    {
     "name": "stdout",
     "output_type": "stream",
     "text": [
      "{({1}, {1, 2, 3, 4, 5})}\n",
      "Theory evolution: [{1}, {1}, {1}]\n",
      "Commitments evolution: [{4, 5}, {1, 2, 3, 4, 5}, {1, 2, 3, 4, 5}]\n"
     ]
    }
   ],
   "source": [
    "#n = 5\n",
    "#arguments = [[1, 3],[1, 4],[1, 5], [2, -4],[2, 5]]\n",
    "dag_ds = DAGDialecticalStructure.from_arguments(arguments, n)\n",
    "global_re = StandardGlobalReflectiveEquilibrium(dag_ds)\n",
    "#init_coms_global = StandardPosition.from_set({3, 4, 5}, n)\n",
    "pprint(global_re.global_optima(init_coms))\n",
    "global_re.set_initial_state(init_coms)\n",
    "global_re.re_process()\n",
    "print(f'Theory evolution: {global_re.state().theory_evolution()}')\n",
    "print(f'Commitments evolution: {global_re.state().commitments_evolution()}')"
   ]
  },
  {
   "cell_type": "code",
   "execution_count": 20,
   "id": "3aa84e6a-ac9d-4702-b297-1defdf73f91f",
   "metadata": {},
   "outputs": [
    {
     "name": "stdout",
     "output_type": "stream",
     "text": [
      "{'alternatives': [set(),\n",
      "                  set(),\n",
      "                  {{3, 4, 5}, {3, 4, 6}, {4, 5, 6}},\n",
      "                  {{3}, {6}},\n",
      "                  {{3, 5}},\n",
      "                  set(),\n",
      "                  set(),\n",
      "                  set()],\n",
      " 'evolution': [{3, 4, 5, 6}, set(), {3, 5, 6}, {5}, {5, 6}, {5}, {5, 6}, {5}],\n",
      " 'finished': True,\n",
      " 'time_line': [0, 1, 2, 3, 4, 5, 6, 7]}\n",
      "Initial commitments: {3, 4, 5, 6}\n",
      "Theory evolution: [set(), {5}, {5}, {5}]\n",
      "Commitments evolution: [{3, 4, 5, 6}, {3, 5, 6}, {5, 6}, {5, 6}]\n",
      "{'account_penalties': [0.0, 0.3, 1.0, 1.0],\n",
      " 'faithfulness_penalties': [0.0, 0.0, 1.0, 1.0],\n",
      " 'neighbourhood_depth': 1,\n",
      " 'weights': {'account': 0.35, 'faithfulness': 0.1, 'systematicity': 0.55}}\n"
     ]
    }
   ],
   "source": [
    "# try with 2 prem\n",
    "n = 6\n",
    "arguments = [[1, 2, 3],[1, 2, 4],[1, 2, 5],[1, 2, 6]]\n",
    "bdd_ds = BDDDialecticalStructure.from_arguments(arguments, n)\n",
    "init_coms = StandardPosition.from_set({3,4,5,6}, n)\n",
    "local_re = StandardLocalReflectiveEquilibrium(bdd_ds, init_coms)\n",
    "local_re.set_initial_state(init_coms)\n",
    "local_re.re_process()\n",
    "pprint(local_re.state().as_dict())\n",
    "print(f'Initial commitments: {local_re.state().initial_commitments()}')\n",
    "print(f'Theory evolution: {local_re.state().theory_evolution()}')\n",
    "print(f'Commitments evolution: {local_re.state().commitments_evolution()}')\n",
    "pprint(local_re.model_parameters())"
   ]
  },
  {
   "cell_type": "code",
   "execution_count": 18,
   "id": "f5b8f8ec-6729-47f1-bd3a-a6e8af37c6f4",
   "metadata": {},
   "outputs": [
    {
     "name": "stdout",
     "output_type": "stream",
     "text": [
      "{({1, 2}, {1, 2, 3, 4, 5, 6})}\n",
      "Theory evolution: [{1, 2}, {1, 2}, {1, 2}]\n",
      "Commitments evolution: [{3, 4, 5, 6}, {1, 2, 3, 4, 5, 6}, {1, 2, 3, 4, 5, 6}]\n"
     ]
    }
   ],
   "source": [
    "#n = 5\n",
    "#arguments = [[1, 3],[1, 4],[1, 5], [2, -4],[2, 5]]\n",
    "dag_ds = DAGDialecticalStructure.from_arguments(arguments, n)\n",
    "global_re = StandardGlobalReflectiveEquilibrium(dag_ds)\n",
    "#init_coms_global = StandardPosition.from_set({3, 4, 5}, n)\n",
    "pprint(global_re.global_optima(init_coms))\n",
    "global_re.set_initial_state(init_coms)\n",
    "global_re.re_process()\n",
    "print(f'Theory evolution: {global_re.state().theory_evolution()}')\n",
    "print(f'Commitments evolution: {global_re.state().commitments_evolution()}')"
   ]
  },
  {
   "cell_type": "code",
   "execution_count": 8,
   "id": "f941bfe0-4362-4673-8096-5c7e730f7e89",
   "metadata": {},
   "outputs": [
    {
     "data": {
      "text/plain": [
       "0.984"
      ]
     },
     "execution_count": 8,
     "metadata": {},
     "output_type": "execute_result"
    }
   ],
   "source": [
    "local_re.achievement(StandardPosition.from_set({3},n),StandardPosition.from_set({3},n),init_coms)"
   ]
  },
  {
   "cell_type": "code",
   "execution_count": 78,
   "id": "c37bec9c-cf22-4b0b-957d-591518532441",
   "metadata": {},
   "outputs": [
    {
     "data": {
      "text/plain": [
       "0.9729599995994568"
      ]
     },
     "execution_count": 78,
     "metadata": {},
     "output_type": "execute_result"
    }
   ],
   "source": [
    "local_re.achievement(StandardPosition.from_set({3, 4, 5},n),StandardPosition.from_set({1,2},n),init_coms)"
   ]
  },
  {
   "cell_type": "code",
   "execution_count": 79,
   "id": "592eaec7-1224-437a-90ba-57b6a3e19b96",
   "metadata": {},
   "outputs": [
    {
     "data": {
      "text/plain": [
       "0.8475399988985062"
      ]
     },
     "execution_count": 79,
     "metadata": {},
     "output_type": "execute_result"
    }
   ],
   "source": [
    "local_re.achievement(StandardPosition.from_set({3, 4, 5},n),StandardPosition.from_set({1},n),init_coms)"
   ]
  },
  {
   "cell_type": "code",
   "execution_count": 82,
   "id": "3c9a79db-7386-445e-88ee-3d913f4775ad",
   "metadata": {},
   "outputs": [
    {
     "data": {
      "text/plain": [
       "0.9440000000000001"
      ]
     },
     "execution_count": 82,
     "metadata": {},
     "output_type": "execute_result"
    }
   ],
   "source": [
    "local_re.achievement(StandardPosition.from_set({3, 4, 5},n),StandardPosition.from_set({5},n),init_coms)"
   ]
  }
 ],
 "metadata": {
  "citation-manager": {
   "items": {}
  },
  "kernelspec": {
   "display_name": "Python 3 (ipykernel)",
   "language": "python",
   "name": "python3"
  },
  "language_info": {
   "codemirror_mode": {
    "name": "ipython",
    "version": 3
   },
   "file_extension": ".py",
   "mimetype": "text/x-python",
   "name": "python",
   "nbconvert_exporter": "python",
   "pygments_lexer": "ipython3",
   "version": "3.8.10"
  }
 },
 "nbformat": 4,
 "nbformat_minor": 5
}
