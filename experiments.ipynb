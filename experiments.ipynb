{
 "cells": [
  {
   "cell_type": "code",
   "execution_count": 60,
   "id": "e5d1b082-f463-413f-be45-29f023d5d5bd",
   "metadata": {},
   "outputs": [],
   "source": [
    "from rethon.ensemble_generation import EnsembleGenerator, SimpleEnsembleGenerator\n",
    "from rethon.ensemble_generation import create_random_argument_list, standard_model_params_varied_alphas\n",
    "from rethon.ensemble_generation import random_position_as_set, create_random_arguments2\n",
    "from rethon.model import StandardPosition, DAGDialecticalStructure, StandardGlobalReflectiveEquilibrium\n",
    "from os import getcwd"
   ]
  },
  {
   "cell_type": "code",
   "execution_count": 63,
   "id": "35b6ba8c-083c-4a78-832e-d167ff224fb8",
   "metadata": {},
   "outputs": [],
   "source": [
    "# Sentence pool\n",
    "n= 7\n",
    "# Two random dialectical structures with 7 arguments each\n",
    "n_dialectical_structures = 50\n",
    "arguments_list = [create_random_arguments2(n_sentences=n, \n",
    "                                           n_arguments=7,\n",
    "                                           n_max_premises=2) for i in range(n_dialectical_structures)]\n",
    "\n",
    "\n",
    "# Two implementations:\n",
    "implementations = [{'module_name': 'rethon.model',\n",
    "                    'position_class_name':'StandardPosition',\n",
    "                    'dialectical_structure_class_name': 'DAGDialecticalStructure',\n",
    "                    'reflective_equilibrium_class_name': 'StandardGlobalReflectiveEquilibrium'},\n",
    "                   {'module_name': 'rethon.model',\n",
    "                    'position_class_name':'StandardPosition',\n",
    "                    'dialectical_structure_class_name': 'DAGDialecticalStructure',\n",
    "                    'reflective_equilibrium_class_name': 'StandardLocalReflectiveEquilibrium'\n",
    "                   }]\n",
    "\n",
    "# Two random initial commitments\n",
    "n_positions = 5\n",
    "coms_list = [random_position_as_set(n_sentences = n) for i in range(n_positions)]\n",
    "#print(arguments_list)\n",
    "#print(coms_list)\n",
    "\n",
    "model_params = [{\n",
    "    'neighbourhood_depth': 1,\n",
    "    'faithfulness_penalties': [0.0, 0.0, 1.0, 1.0],\n",
    "    'account_penalties': [0.0, 0.3, 1.0, 1.0],\n",
    "    'weights': {'account': 0.35, 'faithfulness': 0.1, 'systematicity': 0.55}\n",
    "}]\n",
    "\n",
    "ensemble_gen = SimpleEnsembleGenerator(arguments_list = arguments_list, \n",
    "                                 n_sentence_pool = n,\n",
    "                                 initial_commitments_list = coms_list,\n",
    "                                 model_parameters_list = model_params,\n",
    "                                 implementations = implementations)\n",
    "\n",
    "\n",
    "# removing items we don't need\n",
    "ensemble_gen.remove_item('account_penalties')\n",
    "ensemble_gen.remove_item('faithfulness_penalties')\n",
    "ensemble_gen.remove_item('weight_account')\n",
    "ensemble_gen.remove_item('weight_systematicity')\n",
    "ensemble_gen.remove_item('weight_faithfulness')\n",
    "ensemble_gen.remove_item('n_random_choices')\n",
    "\n",
    "# defining the function for the global Optima\n",
    "def data_global_optima(ensemble_generator):\n",
    "    re_model = ensemble_generator.reflective_equilibrium()\n",
    "    if re_model.model_name() == \"StandardModel\":\n",
    "        return re_model.global_optima(ensemble_generator.initial_commitments())\n",
    "\n",
    "ensemble_gen.add_item('global optima', data_global_optima)\n",
    "\n",
    "#model_runs = list(ensemble_gen.ensemble_iter())\n",
    "#print(f\"Generated {len(model_runs)} ensembles.\")\n",
    "# looping through the ensemble\n",
    "#for model_run in model_runs:\n",
    "#    print(f\"The model run ended with {model_run.state().last_commitments()} as its final commitments.\")\n",
    "    \n",
    "\n",
    "ensemble_gen.ensemble_items_to_csv(\n",
    "                              output_file_name = 'data_output.csv',\n",
    "                              output_dir_name = getcwd(),\n",
    "                              archive = False, # save the csv as archived tar.gz\n",
    "                              save_preliminary_results = True, # will create preliminary csv-data sets \n",
    "                              preliminary_results_interval = 50)"
   ]
  },
  {
   "cell_type": "code",
   "execution_count": null,
   "id": "8a26f4e8-e059-4a8d-a84d-8bae7cf18fb3",
   "metadata": {},
   "outputs": [],
   "source": []
  }
 ],
 "metadata": {
  "citation-manager": {
   "items": {}
  },
  "kernelspec": {
   "display_name": "Python 3 (ipykernel)",
   "language": "python",
   "name": "python3"
  },
  "language_info": {
   "codemirror_mode": {
    "name": "ipython",
    "version": 3
   },
   "file_extension": ".py",
   "mimetype": "text/x-python",
   "name": "python",
   "nbconvert_exporter": "python",
   "pygments_lexer": "ipython3",
   "version": "3.8.10"
  }
 },
 "nbformat": 4,
 "nbformat_minor": 5
}
