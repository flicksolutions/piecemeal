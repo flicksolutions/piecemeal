{
 "cells": [
  {
   "cell_type": "code",
   "execution_count": 91,
   "id": "e5d1b082-f463-413f-be45-29f023d5d5bd",
   "metadata": {},
   "outputs": [],
   "source": [
    "from rethon.ensemble_generation import EnsembleGenerator, SimpleEnsembleGenerator\n",
    "from rethon.ensemble_generation import create_random_argument_list, standard_model_params_varied_alphas\n",
    "from rethon.ensemble_generation import random_position_as_set, create_random_arguments2\n",
    "from rethon.model import StandardPosition, DAGDialecticalStructure, StandardGlobalReflectiveEquilibrium\n",
    "from os import getcwd\n",
    "import concurrent.futures\n",
    "import time"
   ]
  },
  {
   "cell_type": "code",
   "execution_count": 104,
   "id": "35b6ba8c-083c-4a78-832e-d167ff224fb8",
   "metadata": {},
   "outputs": [],
   "source": [
    "def experiment(options):\n",
    "    arguments_list = options[0]\n",
    "    coms_list = options [1]\n",
    "    implementations = options [2]\n",
    "    \n",
    "    start = time.perf_counter()\n",
    "\n",
    "    model_params = [{\n",
    "        'neighbourhood_depth': 1,\n",
    "        'faithfulness_penalties': [0.0, 0.0, 1.0, 1.0],\n",
    "        'account_penalties': [0.0, 0.3, 1.0, 1.0],\n",
    "        'weights': {'account': 0.35, 'faithfulness': 0.1, 'systematicity': 0.55}\n",
    "    }]\n",
    "\n",
    "    ensemble_gen = SimpleEnsembleGenerator(arguments_list = arguments_list, \n",
    "                                     n_sentence_pool = n,\n",
    "                                     initial_commitments_list = coms_list,\n",
    "                                     model_parameters_list = model_params,\n",
    "                                     implementations = implementations)\n",
    "\n",
    "\n",
    "    # removing items we don't need\n",
    "    ensemble_gen.remove_item('account_penalties')\n",
    "    ensemble_gen.remove_item('faithfulness_penalties')\n",
    "    ensemble_gen.remove_item('weight_account')\n",
    "    ensemble_gen.remove_item('weight_systematicity')\n",
    "    ensemble_gen.remove_item('weight_faithfulness')\n",
    "    ensemble_gen.remove_item('n_random_choices')\n",
    "    ensemble_gen.remove_item('n_init_coms_min_ax_base')\n",
    "\n",
    "    # defining the function for the global Optima\n",
    "    def data_global_optima(ensemble_generator):\n",
    "        re_model = ensemble_generator.reflective_equilibrium()\n",
    "        if re_model.model_name() == \"StandardModel\":\n",
    "            return re_model.global_optima(ensemble_generator.initial_commitments())\n",
    "\n",
    "    ensemble_gen.add_item('global optima', data_global_optima)\n",
    "    argument_size = len(arguments_list[0])\n",
    "    #max_premises = \n",
    "\n",
    "    ensemble_gen.ensemble_items_to_csv(\n",
    "                                  output_file_name = f'data_output_args-{argument_size}_model-{implementations[0][\"reflective_equilibrium_class_name\"][8:13]}.csv',\n",
    "                                  output_dir_name = getcwd(),\n",
    "                                  archive = False, # save the csv as archived tar.gz\n",
    "                                  save_preliminary_results = True, # will create preliminary csv-data sets \n",
    "                                  preliminary_results_interval = 50)\n",
    "    \n",
    "    return time.perf_counter()-start"
   ]
  },
  {
   "cell_type": "code",
   "execution_count": 105,
   "id": "8a26f4e8-e059-4a8d-a84d-8bae7cf18fb3",
   "metadata": {},
   "outputs": [
    {
     "name": "stdout",
     "output_type": "stream",
     "text": [
      "[[6, 2], [5, -6]][[6, 2], [5, -6]]\n",
      "\n"
     ]
    },
    {
     "ename": "NameError",
     "evalue": "name 'max_premises' is not defined",
     "output_type": "error",
     "traceback": [
      "\u001b[0;31m---------------------------------------------------------------------------\u001b[0m",
      "\u001b[0;31m_RemoteTraceback\u001b[0m                          Traceback (most recent call last)",
      "\u001b[0;31m_RemoteTraceback\u001b[0m: \n\"\"\"\nTraceback (most recent call last):\n  File \"/usr/lib/python3.8/concurrent/futures/process.py\", line 239, in _process_worker\n    r = call_item.fn(*call_item.args, **call_item.kwargs)\n  File \"/usr/lib/python3.8/concurrent/futures/process.py\", line 198, in _process_chunk\n    return [fn(*args) for args in chunk]\n  File \"/usr/lib/python3.8/concurrent/futures/process.py\", line 198, in <listcomp>\n    return [fn(*args) for args in chunk]\n  File \"/tmp/ipykernel_165/2262628000.py\", line 43, in experiment\n    output_file_name = f'data_output_args-{argument_size}_premises-{max_premises}_model-{implementations[0][\"reflective_equilibrium_class_name\"][8:13]}.csv',\nNameError: name 'max_premises' is not defined\n\"\"\"",
      "\nThe above exception was the direct cause of the following exception:\n",
      "\u001b[0;31mNameError\u001b[0m                                 Traceback (most recent call last)",
      "\u001b[0;32m/tmp/ipykernel_165/3805786985.py\u001b[0m in \u001b[0;36m<module>\u001b[0;34m\u001b[0m\n\u001b[1;32m     25\u001b[0m \u001b[0;32mwith\u001b[0m \u001b[0mconcurrent\u001b[0m\u001b[0;34m.\u001b[0m\u001b[0mfutures\u001b[0m\u001b[0;34m.\u001b[0m\u001b[0mProcessPoolExecutor\u001b[0m\u001b[0;34m(\u001b[0m\u001b[0;34m)\u001b[0m \u001b[0;32mas\u001b[0m \u001b[0mexecutor\u001b[0m\u001b[0;34m:\u001b[0m\u001b[0;34m\u001b[0m\u001b[0;34m\u001b[0m\u001b[0m\n\u001b[1;32m     26\u001b[0m     \u001b[0mtimes\u001b[0m \u001b[0;34m=\u001b[0m \u001b[0mexecutor\u001b[0m\u001b[0;34m.\u001b[0m\u001b[0mmap\u001b[0m\u001b[0;34m(\u001b[0m\u001b[0mexperiment\u001b[0m\u001b[0;34m,\u001b[0m \u001b[0mcreateStruct\u001b[0m\u001b[0;34m(\u001b[0m\u001b[0;36m2\u001b[0m\u001b[0;34m,\u001b[0m\u001b[0;36m1\u001b[0m\u001b[0;34m)\u001b[0m\u001b[0;34m)\u001b[0m\u001b[0;34m\u001b[0m\u001b[0;34m\u001b[0m\u001b[0m\n\u001b[0;32m---> 27\u001b[0;31m     \u001b[0;32mfor\u001b[0m \u001b[0mtime\u001b[0m \u001b[0;32min\u001b[0m \u001b[0mtimes\u001b[0m\u001b[0;34m:\u001b[0m\u001b[0;34m\u001b[0m\u001b[0;34m\u001b[0m\u001b[0m\n\u001b[0m\u001b[1;32m     28\u001b[0m          \u001b[0mprint\u001b[0m\u001b[0;34m(\u001b[0m\u001b[0mtime\u001b[0m\u001b[0;34m)\u001b[0m\u001b[0;34m\u001b[0m\u001b[0;34m\u001b[0m\u001b[0m\n",
      "\u001b[0;32m/usr/lib/python3.8/concurrent/futures/process.py\u001b[0m in \u001b[0;36m_chain_from_iterable_of_lists\u001b[0;34m(iterable)\u001b[0m\n\u001b[1;32m    482\u001b[0m     \u001b[0mcareful\u001b[0m \u001b[0;32mnot\u001b[0m \u001b[0mto\u001b[0m \u001b[0mkeep\u001b[0m \u001b[0mreferences\u001b[0m \u001b[0mto\u001b[0m \u001b[0myielded\u001b[0m \u001b[0mobjects\u001b[0m\u001b[0;34m.\u001b[0m\u001b[0;34m\u001b[0m\u001b[0;34m\u001b[0m\u001b[0m\n\u001b[1;32m    483\u001b[0m     \"\"\"\n\u001b[0;32m--> 484\u001b[0;31m     \u001b[0;32mfor\u001b[0m \u001b[0melement\u001b[0m \u001b[0;32min\u001b[0m \u001b[0miterable\u001b[0m\u001b[0;34m:\u001b[0m\u001b[0;34m\u001b[0m\u001b[0;34m\u001b[0m\u001b[0m\n\u001b[0m\u001b[1;32m    485\u001b[0m         \u001b[0melement\u001b[0m\u001b[0;34m.\u001b[0m\u001b[0mreverse\u001b[0m\u001b[0;34m(\u001b[0m\u001b[0;34m)\u001b[0m\u001b[0;34m\u001b[0m\u001b[0;34m\u001b[0m\u001b[0m\n\u001b[1;32m    486\u001b[0m         \u001b[0;32mwhile\u001b[0m \u001b[0melement\u001b[0m\u001b[0;34m:\u001b[0m\u001b[0;34m\u001b[0m\u001b[0;34m\u001b[0m\u001b[0m\n",
      "\u001b[0;32m/usr/lib/python3.8/concurrent/futures/_base.py\u001b[0m in \u001b[0;36mresult_iterator\u001b[0;34m()\u001b[0m\n\u001b[1;32m    617\u001b[0m                     \u001b[0;31m# Careful not to keep a reference to the popped future\u001b[0m\u001b[0;34m\u001b[0m\u001b[0;34m\u001b[0m\u001b[0;34m\u001b[0m\u001b[0m\n\u001b[1;32m    618\u001b[0m                     \u001b[0;32mif\u001b[0m \u001b[0mtimeout\u001b[0m \u001b[0;32mis\u001b[0m \u001b[0;32mNone\u001b[0m\u001b[0;34m:\u001b[0m\u001b[0;34m\u001b[0m\u001b[0;34m\u001b[0m\u001b[0m\n\u001b[0;32m--> 619\u001b[0;31m                         \u001b[0;32myield\u001b[0m \u001b[0mfs\u001b[0m\u001b[0;34m.\u001b[0m\u001b[0mpop\u001b[0m\u001b[0;34m(\u001b[0m\u001b[0;34m)\u001b[0m\u001b[0;34m.\u001b[0m\u001b[0mresult\u001b[0m\u001b[0;34m(\u001b[0m\u001b[0;34m)\u001b[0m\u001b[0;34m\u001b[0m\u001b[0;34m\u001b[0m\u001b[0m\n\u001b[0m\u001b[1;32m    620\u001b[0m                     \u001b[0;32melse\u001b[0m\u001b[0;34m:\u001b[0m\u001b[0;34m\u001b[0m\u001b[0;34m\u001b[0m\u001b[0m\n\u001b[1;32m    621\u001b[0m                         \u001b[0;32myield\u001b[0m \u001b[0mfs\u001b[0m\u001b[0;34m.\u001b[0m\u001b[0mpop\u001b[0m\u001b[0;34m(\u001b[0m\u001b[0;34m)\u001b[0m\u001b[0;34m.\u001b[0m\u001b[0mresult\u001b[0m\u001b[0;34m(\u001b[0m\u001b[0mend_time\u001b[0m \u001b[0;34m-\u001b[0m \u001b[0mtime\u001b[0m\u001b[0;34m.\u001b[0m\u001b[0mmonotonic\u001b[0m\u001b[0;34m(\u001b[0m\u001b[0;34m)\u001b[0m\u001b[0;34m)\u001b[0m\u001b[0;34m\u001b[0m\u001b[0;34m\u001b[0m\u001b[0m\n",
      "\u001b[0;32m/usr/lib/python3.8/concurrent/futures/_base.py\u001b[0m in \u001b[0;36mresult\u001b[0;34m(self, timeout)\u001b[0m\n\u001b[1;32m    442\u001b[0m                     \u001b[0;32mraise\u001b[0m \u001b[0mCancelledError\u001b[0m\u001b[0;34m(\u001b[0m\u001b[0;34m)\u001b[0m\u001b[0;34m\u001b[0m\u001b[0;34m\u001b[0m\u001b[0m\n\u001b[1;32m    443\u001b[0m                 \u001b[0;32melif\u001b[0m \u001b[0mself\u001b[0m\u001b[0;34m.\u001b[0m\u001b[0m_state\u001b[0m \u001b[0;34m==\u001b[0m \u001b[0mFINISHED\u001b[0m\u001b[0;34m:\u001b[0m\u001b[0;34m\u001b[0m\u001b[0;34m\u001b[0m\u001b[0m\n\u001b[0;32m--> 444\u001b[0;31m                     \u001b[0;32mreturn\u001b[0m \u001b[0mself\u001b[0m\u001b[0;34m.\u001b[0m\u001b[0m__get_result\u001b[0m\u001b[0;34m(\u001b[0m\u001b[0;34m)\u001b[0m\u001b[0;34m\u001b[0m\u001b[0;34m\u001b[0m\u001b[0m\n\u001b[0m\u001b[1;32m    445\u001b[0m                 \u001b[0;32melse\u001b[0m\u001b[0;34m:\u001b[0m\u001b[0;34m\u001b[0m\u001b[0;34m\u001b[0m\u001b[0m\n\u001b[1;32m    446\u001b[0m                     \u001b[0;32mraise\u001b[0m \u001b[0mTimeoutError\u001b[0m\u001b[0;34m(\u001b[0m\u001b[0;34m)\u001b[0m\u001b[0;34m\u001b[0m\u001b[0;34m\u001b[0m\u001b[0m\n",
      "\u001b[0;32m/usr/lib/python3.8/concurrent/futures/_base.py\u001b[0m in \u001b[0;36m__get_result\u001b[0;34m(self)\u001b[0m\n\u001b[1;32m    387\u001b[0m         \u001b[0;32mif\u001b[0m \u001b[0mself\u001b[0m\u001b[0;34m.\u001b[0m\u001b[0m_exception\u001b[0m\u001b[0;34m:\u001b[0m\u001b[0;34m\u001b[0m\u001b[0;34m\u001b[0m\u001b[0m\n\u001b[1;32m    388\u001b[0m             \u001b[0;32mtry\u001b[0m\u001b[0;34m:\u001b[0m\u001b[0;34m\u001b[0m\u001b[0;34m\u001b[0m\u001b[0m\n\u001b[0;32m--> 389\u001b[0;31m                 \u001b[0;32mraise\u001b[0m \u001b[0mself\u001b[0m\u001b[0;34m.\u001b[0m\u001b[0m_exception\u001b[0m\u001b[0;34m\u001b[0m\u001b[0;34m\u001b[0m\u001b[0m\n\u001b[0m\u001b[1;32m    390\u001b[0m             \u001b[0;32mfinally\u001b[0m\u001b[0;34m:\u001b[0m\u001b[0;34m\u001b[0m\u001b[0;34m\u001b[0m\u001b[0m\n\u001b[1;32m    391\u001b[0m                 \u001b[0;31m# Break a reference cycle with the exception in self._exception\u001b[0m\u001b[0;34m\u001b[0m\u001b[0;34m\u001b[0m\u001b[0;34m\u001b[0m\u001b[0m\n",
      "\u001b[0;31mNameError\u001b[0m: name 'max_premises' is not defined"
     ]
    }
   ],
   "source": [
    "def createStruct(argument_size, max_premises):\n",
    "    # Sentence pool\n",
    "    n= 7\n",
    "    # Two random dialectical structures with 7 arguments each\n",
    "    n_dialectical_structures = 5\n",
    "    arguments_list = [create_random_arguments2(n_sentences=n, \n",
    "                                               n_arguments=argument_size,\n",
    "                                               n_max_premises=max_premises) for i in range(n_dialectical_structures)]\n",
    "    # Two random initial commitments\n",
    "    n_positions = 2\n",
    "    coms_list = [random_position_as_set(n_sentences = n) for i in range(n_positions)]\n",
    "    local_impl = [{'module_name': 'rethon.model',\n",
    "               'position_class_name':'StandardPosition',\n",
    "               'dialectical_structure_class_name': 'DAGDialecticalStructure',\n",
    "               'reflective_equilibrium_class_name': 'StandardLocalReflectiveEquilibrium'\n",
    "               }]\n",
    "    global_impl = [{'module_name': 'rethon.model',\n",
    "                'position_class_name':'StandardPosition',\n",
    "                'dialectical_structure_class_name': 'DAGDialecticalStructure',\n",
    "                'reflective_equilibrium_class_name': 'StandardGlobalReflectiveEquilibrium'}]\n",
    "    return [[arguments_list, coms_list, local_impl],[arguments_list, coms_list, global_impl]]\n",
    "\n",
    "\n",
    "\n",
    "with concurrent.futures.ProcessPoolExecutor() as executor:\n",
    "    times = executor.map(experiment, createStruct(2,1))\n",
    "    for time in times:\n",
    "         print(time)"
   ]
  },
  {
   "cell_type": "code",
   "execution_count": null,
   "id": "1f5fb985-20b1-430d-9118-bb58ccc2f355",
   "metadata": {},
   "outputs": [],
   "source": []
  }
 ],
 "metadata": {
  "citation-manager": {
   "items": {}
  },
  "kernelspec": {
   "display_name": "Python 3 (ipykernel)",
   "language": "python",
   "name": "python3"
  },
  "language_info": {
   "codemirror_mode": {
    "name": "ipython",
    "version": 3
   },
   "file_extension": ".py",
   "mimetype": "text/x-python",
   "name": "python",
   "nbconvert_exporter": "python",
   "pygments_lexer": "ipython3",
   "version": "3.8.10"
  }
 },
 "nbformat": 4,
 "nbformat_minor": 5
}
