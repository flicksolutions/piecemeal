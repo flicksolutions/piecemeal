{
 "cells": [
  {
   "cell_type": "code",
   "execution_count": 1,
   "id": "ee0946a9-4073-4850-bdef-b457102ba359",
   "metadata": {},
   "outputs": [
    {
     "name": "stdout",
     "output_type": "stream",
     "text": [
      "{'alternatives': [set(),\n",
      "                  set(),\n",
      "                  {{4, 5}, {3, 4}},\n",
      "                  {{5}},\n",
      "                  set(),\n",
      "                  set(),\n",
      "                  set(),\n",
      "                  set()],\n",
      " 'evolution': [{3, 4, 5}, set(), {3, 5}, {3}, {3}, {3}, {3}, {3}],\n",
      " 'finished': True,\n",
      " 'time_line': [0, 1, 2, 3, 4, 5, 6, 7]}\n"
     ]
    }
   ],
   "source": [
    "from rethon.model import StandardPosition, BDDDialecticalStructure, StandardLocalReflectiveEquilibrium\n",
    "from pprint import pprint\n",
    "\n",
    "# our standard example with a sentence pool n=7\n",
    "n = 7\n",
    "arguments = [[1, 3],[1, 4],[1, 5],[1, -6], [2, -4],[2, 5],[2, 6],[2, 7]]\n",
    "bdd_ds = BDDDialecticalStructure.from_arguments(arguments, n)\n",
    "init_coms = StandardPosition.from_set({3, 4, 5}, n)\n",
    "local_re = StandardLocalReflectiveEquilibrium(bdd_ds, init_coms)\n",
    "local_re.set_initial_state(init_coms)\n",
    "local_re.re_process()\n",
    "pprint(local_re.state().as_dict())"
   ]
  },
  {
   "cell_type": "code",
   "execution_count": null,
   "id": "6f4213ab-bda9-45f9-939c-aeb491900e94",
   "metadata": {},
   "outputs": [],
   "source": []
  }
 ],
 "metadata": {
  "citation-manager": {
   "items": {}
  },
  "kernelspec": {
   "display_name": "Python 3 (ipykernel)",
   "language": "python",
   "name": "python3"
  },
  "language_info": {
   "codemirror_mode": {
    "name": "ipython",
    "version": 3
   },
   "file_extension": ".py",
   "mimetype": "text/x-python",
   "name": "python",
   "nbconvert_exporter": "python",
   "pygments_lexer": "ipython3",
   "version": "3.8.10"
  }
 },
 "nbformat": 4,
 "nbformat_minor": 5
}
